{
 "cells": [
  {
   "cell_type": "code",
   "execution_count": null,
   "metadata": {},
   "outputs": [],
   "source": [
    "a=b=c=9000\n",
    "print(\"values of a =\",a,\"b=\",b,\"and c=\",c)\n",
    "# a ) divide a by 10\n",
    "print(\"Divide a by 90 :\",a/90)\n",
    "# b) multiply b by 50\n",
    "print(\"Multiply b by 50\",b*50)\n",
    "# c) Add c value by 60\n",
    "print(\"Add c value by 60\" ,c+60)\n",
    "\n",
    "\n",
    "string_var=\"nehag\"\n",
    "print(string_var)\n",
    "print(\"after replacing G in string\", string_var.replace(\"h\",\"G\"))\n",
    "print(string_var)\n",
    "print(\"after replacing G in string\", string_var[:2]+'G'+string_var[3:])\n",
    "import re\n",
    "print(string_var)\n",
    "string_var=re.sub(\"h\",\"G\",string_var)\n",
    "print(\"after replacing G in string\",string_var )\n",
    "string_var=\"nehag\"\n",
    "print(string_var)\n",
    "trans=string_var.maketrans(\"h\",\"G\")\n",
    "string_var=string_var.translate(trans)\n",
    "print(\"after replacing G in string\",string_var )\n",
    "\n",
    "\n",
    "a=90\n",
    "b=110.5\n",
    "print(\"a=\",a)\n",
    "print(\"After typecasting a to float =\",float(a))\n",
    "print(\"b=\",b)\n",
    "print(\"After typecasting a to int =\",int(b))\n",
    "\n"
   ]
  },
  {
   "cell_type": "code",
   "execution_count": null,
   "metadata": {},
   "outputs": [],
   "source": []
  },
  {
   "cell_type": "code",
   "execution_count": null,
   "metadata": {},
   "outputs": [],
   "source": []
  },
  {
   "cell_type": "code",
   "execution_count": null,
   "metadata": {},
   "outputs": [],
   "source": []
  }
 ],
 "metadata": {
  "kernelspec": {
   "display_name": "Python 3",
   "language": "python",
   "name": "python3"
  }
 },
 "nbformat": 4,
 "nbformat_minor": 4
}
